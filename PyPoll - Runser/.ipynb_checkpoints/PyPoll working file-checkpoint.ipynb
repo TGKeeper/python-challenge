{
 "cells": [
  {
   "cell_type": "code",
   "execution_count": 1,
   "id": "c9d29002",
   "metadata": {},
   "outputs": [],
   "source": [
    "import os\n",
    "import csv"
   ]
  },
  {
   "cell_type": "code",
   "execution_count": 2,
   "id": "4ba4ee5e",
   "metadata": {},
   "outputs": [],
   "source": [
    "import pandas as pd"
   ]
  },
  {
   "cell_type": "code",
   "execution_count": 3,
   "id": "1ce94c9d",
   "metadata": {},
   "outputs": [
    {
     "name": "stdout",
     "output_type": "stream",
     "text": [
      "Resources\\election_data.csv\n"
     ]
    }
   ],
   "source": [
    "election_data = os.path.join(\"Resources\", \"election_data.csv\")\n",
    "print(election_data)"
   ]
  },
  {
   "cell_type": "code",
   "execution_count": 4,
   "id": "6da48c24",
   "metadata": {},
   "outputs": [
    {
     "name": "stdout",
     "output_type": "stream",
     "text": [
      "['Ballot ID', 'County', 'Candidate']\n"
     ]
    }
   ],
   "source": [
    "with open(election_data) as csvFile:\n",
    "\n",
    "    csvReader = csv.reader(csvFile, delimiter = \",\")\n",
    "    pollHeader = next (csvReader)\n",
    "    print(pollHeader)"
   ]
  },
  {
   "cell_type": "code",
   "execution_count": 5,
   "id": "5db99bc3",
   "metadata": {},
   "outputs": [
    {
     "data": {
      "text/html": [
       "<div>\n",
       "<style scoped>\n",
       "    .dataframe tbody tr th:only-of-type {\n",
       "        vertical-align: middle;\n",
       "    }\n",
       "\n",
       "    .dataframe tbody tr th {\n",
       "        vertical-align: top;\n",
       "    }\n",
       "\n",
       "    .dataframe thead th {\n",
       "        text-align: right;\n",
       "    }\n",
       "</style>\n",
       "<table border=\"1\" class=\"dataframe\">\n",
       "  <thead>\n",
       "    <tr style=\"text-align: right;\">\n",
       "      <th></th>\n",
       "      <th>Ballot ID</th>\n",
       "      <th>County</th>\n",
       "      <th>Candidate</th>\n",
       "    </tr>\n",
       "  </thead>\n",
       "  <tbody>\n",
       "    <tr>\n",
       "      <th>0</th>\n",
       "      <td>1323913</td>\n",
       "      <td>Jefferson</td>\n",
       "      <td>Charles Casper Stockham</td>\n",
       "    </tr>\n",
       "    <tr>\n",
       "      <th>1</th>\n",
       "      <td>1005842</td>\n",
       "      <td>Jefferson</td>\n",
       "      <td>Charles Casper Stockham</td>\n",
       "    </tr>\n",
       "    <tr>\n",
       "      <th>2</th>\n",
       "      <td>1880345</td>\n",
       "      <td>Jefferson</td>\n",
       "      <td>Charles Casper Stockham</td>\n",
       "    </tr>\n",
       "    <tr>\n",
       "      <th>3</th>\n",
       "      <td>1600337</td>\n",
       "      <td>Jefferson</td>\n",
       "      <td>Charles Casper Stockham</td>\n",
       "    </tr>\n",
       "    <tr>\n",
       "      <th>4</th>\n",
       "      <td>1835994</td>\n",
       "      <td>Jefferson</td>\n",
       "      <td>Charles Casper Stockham</td>\n",
       "    </tr>\n",
       "  </tbody>\n",
       "</table>\n",
       "</div>"
      ],
      "text/plain": [
       "   Ballot ID     County                Candidate\n",
       "0    1323913  Jefferson  Charles Casper Stockham\n",
       "1    1005842  Jefferson  Charles Casper Stockham\n",
       "2    1880345  Jefferson  Charles Casper Stockham\n",
       "3    1600337  Jefferson  Charles Casper Stockham\n",
       "4    1835994  Jefferson  Charles Casper Stockham"
      ]
     },
     "execution_count": 5,
     "metadata": {},
     "output_type": "execute_result"
    }
   ],
   "source": [
    "pollDF = pd.read_csv(election_data,low_memory=False)\n",
    "pollDF.head()"
   ]
  },
  {
   "cell_type": "code",
   "execution_count": 6,
   "id": "3586138b",
   "metadata": {},
   "outputs": [
    {
     "name": "stdout",
     "output_type": "stream",
     "text": [
      "369711\n"
     ]
    }
   ],
   "source": [
    "numberofvotes = len(pollDF[\"Ballot ID\"])  #counted the rows w/len to return a count\n",
    "print(numberofvotes)"
   ]
  },
  {
   "cell_type": "code",
   "execution_count": 7,
   "id": "df7ef36e",
   "metadata": {},
   "outputs": [
    {
     "data": {
      "text/plain": [
       "Candidate\n",
       "Diana DeGette              272892\n",
       "Charles Casper Stockham     85213\n",
       "Raymon Anthony Doane        11606\n",
       "Name: count, dtype: int64"
      ]
     },
     "execution_count": 7,
     "metadata": {},
     "output_type": "execute_result"
    }
   ],
   "source": [
    "candidatelist = pollDF[\"Candidate\"]\n",
    "candidatelist.value_counts()  #value counts returns a breakdown of unique items in the candidate column"
   ]
  },
  {
   "cell_type": "code",
   "execution_count": 8,
   "id": "4695d428",
   "metadata": {},
   "outputs": [
    {
     "data": {
      "text/plain": [
       "array(['Charles Casper Stockham', 'Diana DeGette', 'Raymon Anthony Doane'],\n",
       "      dtype=object)"
      ]
     },
     "execution_count": 8,
     "metadata": {},
     "output_type": "execute_result"
    }
   ],
   "source": [
    "candidatelist.unique()"
   ]
  },
  {
   "cell_type": "code",
   "execution_count": 9,
   "id": "9a4ca967",
   "metadata": {},
   "outputs": [
    {
     "data": {
      "text/plain": [
       "85213"
      ]
     },
     "execution_count": 9,
     "metadata": {},
     "output_type": "execute_result"
    }
   ],
   "source": [
    "StockhamVotes = pollDF.loc[pollDF[\"Candidate\"] == \"Charles Casper Stockham\"]  #filters the rows to this candidate\n",
    "StockhamVotes.count()\n",
    "StockhamCount = StockhamVotes.count()\n",
    "StockhamCount = StockhamCount.loc[\"Candidate\"]\n",
    "StockhamCount"
   ]
  },
  {
   "cell_type": "code",
   "execution_count": 10,
   "id": "131ebd6e-0cc1-4fd9-8490-898c1087da4d",
   "metadata": {},
   "outputs": [
    {
     "data": {
      "text/plain": [
       "'23%'"
      ]
     },
     "execution_count": 10,
     "metadata": {},
     "output_type": "execute_result"
    }
   ],
   "source": [
    "StockhamPerc = StockhamCount/numberofvotes\n",
    "StockhamPerc = f\"{StockhamPerc:.00%}\" #formats as a percentage, but rounds percent, excludes decimal value\n",
    "StockhamPerc"
   ]
  },
  {
   "cell_type": "code",
   "execution_count": 11,
   "id": "cee89413",
   "metadata": {},
   "outputs": [
    {
     "data": {
      "text/plain": [
       "272892"
      ]
     },
     "execution_count": 11,
     "metadata": {},
     "output_type": "execute_result"
    }
   ],
   "source": [
    "DeGetteVotes = pollDF.loc[pollDF[\"Candidate\"] == \"Diana DeGette\"]   #filters the rows to this candidate\n",
    "DeGetteVotes.count()\n",
    "DeGetteCount = DeGetteVotes.count()\n",
    "DeGetteCount = DeGetteCount.loc[\"Candidate\"]\n",
    "DeGetteCount"
   ]
  },
  {
   "cell_type": "code",
   "execution_count": 12,
   "id": "da843552-98d0-412d-80f8-4d69237d4d09",
   "metadata": {},
   "outputs": [
    {
     "data": {
      "text/plain": [
       "'74%'"
      ]
     },
     "execution_count": 12,
     "metadata": {},
     "output_type": "execute_result"
    }
   ],
   "source": [
    "DeGettePerc = DeGetteCount/numberofvotes\n",
    "DeGettePerc = f\"{DeGettePerc:.00%}\"\n",
    "DeGettePerc"
   ]
  },
  {
   "cell_type": "code",
   "execution_count": 13,
   "id": "a13cd41b",
   "metadata": {},
   "outputs": [
    {
     "data": {
      "text/plain": [
       "11606"
      ]
     },
     "execution_count": 13,
     "metadata": {},
     "output_type": "execute_result"
    }
   ],
   "source": [
    "DoaneVotes = pollDF.loc[pollDF[\"Candidate\"] == \"Raymon Anthony Doane\"]   #filters the rows to this candidate\n",
    "DoaneCount = DoaneVotes.count()\n",
    "DoaneCount = DoaneCount.loc[\"Candidate\"]\n",
    "DoaneCount"
   ]
  },
  {
   "cell_type": "code",
   "execution_count": 14,
   "id": "cb641969-fdb3-4d83-84fb-5e9865ec802b",
   "metadata": {},
   "outputs": [
    {
     "data": {
      "text/plain": [
       "'3%'"
      ]
     },
     "execution_count": 14,
     "metadata": {},
     "output_type": "execute_result"
    }
   ],
   "source": [
    "DoanePerc = DoaneCount/numberofvotes\n",
    "DoanePerc = f\"{DoanePerc:.00%}\"\n",
    "DoanePerc"
   ]
  },
  {
   "cell_type": "code",
   "execution_count": 15,
   "id": "f77fbd32-dc93-4ac9-a696-a8e4074688c3",
   "metadata": {},
   "outputs": [
    {
     "data": {
      "text/plain": [
       "Candidate\n",
       "Diana DeGette              272892\n",
       "Charles Casper Stockham     85213\n",
       "Raymon Anthony Doane        11606\n",
       "Name: count, dtype: int64"
      ]
     },
     "execution_count": 15,
     "metadata": {},
     "output_type": "execute_result"
    }
   ],
   "source": [
    "Results = candidatelist.value_counts()\n",
    "Results"
   ]
  },
  {
   "cell_type": "code",
   "execution_count": 16,
   "id": "70c4aa1f-435b-406e-93c6-3e5c440cd68f",
   "metadata": {},
   "outputs": [
    {
     "data": {
      "text/plain": [
       "'Diana DeGette'"
      ]
     },
     "execution_count": 16,
     "metadata": {},
     "output_type": "execute_result"
    }
   ],
   "source": [
    "#Results.iloc[1, :].max() #why does the candidate column get dropped here?\n",
    "Winner = Results.idxmax()\n",
    "Winner\n"
   ]
  },
  {
   "cell_type": "code",
   "execution_count": 17,
   "id": "a8fd353f-5dce-476d-93d2-d43fe2bd65f5",
   "metadata": {},
   "outputs": [
    {
     "name": "stdout",
     "output_type": "stream",
     "text": [
      "Election Results:\n",
      "---------------------------------------\n",
      "Total Votes: 369711\n",
      "---------------------------------------\n",
      "Charles Casper Stockham: 23% (85213)\n",
      "Diana DeGette: 74% (272892)\n",
      "Raymon Anthony Doane: 3% (11606)\n",
      "---------------------------------------\n",
      "Winner: Diana DeGette\n",
      "---------------------------------------\n"
     ]
    }
   ],
   "source": [
    "print(f\"Election Results:\\n---------------------------------------\\nTotal Votes: {numberofvotes}\\n---------------------------------------\\nCharles Casper Stockham: {StockhamPerc} ({StockhamCount})\\nDiana DeGette: {DeGettePerc} ({DeGetteCount})\\nRaymon Anthony Doane: {DoanePerc} ({DoaneCount})\\n---------------------------------------\\nWinner: {Winner}\\n---------------------------------------\")\n",
    " "
   ]
  },
  {
   "cell_type": "code",
   "execution_count": 18,
   "id": "6e1bce02-472f-46a1-b63a-4fd7a94e924d",
   "metadata": {},
   "outputs": [],
   "source": [
    "Reportstring = f\"Election Results:\\n---------------------------------------\\nTotal Votes: {numberofvotes}\\n---------------------------------------\\nCharles Casper Stockham: {StockhamPerc} ({StockhamCount})\\nDiana DeGette: {DeGettePerc} ({DeGetteCount})\\nRaymon Anthony Doane: {DoanePerc} ({DoaneCount})\\n---------------------------------------\\nWinner: \\n---------------------------------------\"\n"
   ]
  },
  {
   "cell_type": "code",
   "execution_count": 19,
   "id": "d3b8e663-0ee3-4a1e-a25a-b3bd18cbe17c",
   "metadata": {},
   "outputs": [],
   "source": [
    "with open('Example1.txt', 'w', newline = '') as txtfile:\n",
    "    my_writer = txtfile.write(Reportstring)\n",
    "    #my_writer.writerow(Reportstring)"
   ]
  },
  {
   "cell_type": "code",
   "execution_count": null,
   "id": "c4e8cfd3-9f3f-4a46-aab2-c0f010167aad",
   "metadata": {},
   "outputs": [],
   "source": []
  },
  {
   "cell_type": "code",
   "execution_count": null,
   "id": "7e101308-6cf3-4608-b081-61004929dd1c",
   "metadata": {},
   "outputs": [],
   "source": []
  }
 ],
 "metadata": {
  "kernelspec": {
   "display_name": "Python 3 (ipykernel)",
   "language": "python",
   "name": "python3"
  },
  "language_info": {
   "codemirror_mode": {
    "name": "ipython",
    "version": 3
   },
   "file_extension": ".py",
   "mimetype": "text/x-python",
   "name": "python",
   "nbconvert_exporter": "python",
   "pygments_lexer": "ipython3",
   "version": "3.11.5"
  }
 },
 "nbformat": 4,
 "nbformat_minor": 5
}
