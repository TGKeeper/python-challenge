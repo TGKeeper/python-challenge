{
 "cells": [
  {
   "cell_type": "code",
   "execution_count": 185,
   "id": "3c927e12-829b-4f1c-9ce5-163b91f3e373",
   "metadata": {},
   "outputs": [],
   "source": [
    "import os\n",
    "import csv  "
   ]
  },
  {
   "cell_type": "code",
   "execution_count": 186,
   "id": "211d6bec-8cd1-4755-b49d-90c58c08c68f",
   "metadata": {
    "scrolled": true
   },
   "outputs": [
    {
     "name": "stdout",
     "output_type": "stream",
     "text": [
      "Requirement already satisfied: pandas in c:\\users\\melan\\anaconda3\\lib\\site-packages (2.0.3)\n",
      "Requirement already satisfied: python-dateutil>=2.8.2 in c:\\users\\melan\\anaconda3\\lib\\site-packages (from pandas) (2.8.2)\n",
      "Requirement already satisfied: pytz>=2020.1 in c:\\users\\melan\\anaconda3\\lib\\site-packages (from pandas) (2023.3.post1)\n",
      "Requirement already satisfied: tzdata>=2022.1 in c:\\users\\melan\\anaconda3\\lib\\site-packages (from pandas) (2023.3)\n",
      "Requirement already satisfied: numpy>=1.21.0 in c:\\users\\melan\\anaconda3\\lib\\site-packages (from pandas) (1.24.3)\n",
      "Requirement already satisfied: six>=1.5 in c:\\users\\melan\\anaconda3\\lib\\site-packages (from python-dateutil>=2.8.2->pandas) (1.16.0)\n",
      "Note: you may need to restart the kernel to use updated packages.\n"
     ]
    }
   ],
   "source": [
    "pip install pandas"
   ]
  },
  {
   "cell_type": "code",
   "execution_count": 187,
   "id": "700c8ada-c489-4a25-b602-710433e8de5e",
   "metadata": {},
   "outputs": [],
   "source": [
    "import pandas as pd"
   ]
  },
  {
   "cell_type": "code",
   "execution_count": 188,
   "id": "5b93bcab-0c01-4853-8b35-49e77121fd7d",
   "metadata": {},
   "outputs": [
    {
     "name": "stdout",
     "output_type": "stream",
     "text": [
      "..\\PyBank\\Resources\\budget_data.csv\n"
     ]
    }
   ],
   "source": [
    "#budget_data = os.path.join(\"..\",\"Resources\",\"budget_data.csv\")\n",
    "budget_data = os.path.join(\"..\",\"PyBank\",\"Resources\",\"budget_data.csv\")\n",
    "#\"4-Python Challenge\",\"python-challenge\",\n",
    "print(budget_data) #not necessary"
   ]
  },
  {
   "cell_type": "code",
   "execution_count": 189,
   "id": "7f941e29-0990-4716-80af-5873001e2c2f",
   "metadata": {},
   "outputs": [
    {
     "name": "stdout",
     "output_type": "stream",
     "text": [
      "['Date', 'Profit/Losses']\n"
     ]
    }
   ],
   "source": [
    "with open(budget_data) as csvFile:\n",
    "    csvReader = csv.reader(csvFile, delimiter = \",\")\n",
    "    budgetHeader = next (csvReader)\n",
    "    print(budgetHeader)"
   ]
  },
  {
   "cell_type": "code",
   "execution_count": 190,
   "id": "9353bfaf-5de8-4fd5-bbbc-68855a8549b7",
   "metadata": {},
   "outputs": [],
   "source": [
    "budgetDF = pd.read_csv(budget_data)"
   ]
  },
  {
   "cell_type": "code",
   "execution_count": 191,
   "id": "5262b2bb-304d-43ca-8a57-d76c2b097bb2",
   "metadata": {},
   "outputs": [
    {
     "data": {
      "text/html": [
       "<div>\n",
       "<style scoped>\n",
       "    .dataframe tbody tr th:only-of-type {\n",
       "        vertical-align: middle;\n",
       "    }\n",
       "\n",
       "    .dataframe tbody tr th {\n",
       "        vertical-align: top;\n",
       "    }\n",
       "\n",
       "    .dataframe thead th {\n",
       "        text-align: right;\n",
       "    }\n",
       "</style>\n",
       "<table border=\"1\" class=\"dataframe\">\n",
       "  <thead>\n",
       "    <tr style=\"text-align: right;\">\n",
       "      <th></th>\n",
       "      <th>Date</th>\n",
       "      <th>Profit/Losses</th>\n",
       "    </tr>\n",
       "  </thead>\n",
       "  <tbody>\n",
       "    <tr>\n",
       "      <th>0</th>\n",
       "      <td>Jan-10</td>\n",
       "      <td>1088983</td>\n",
       "    </tr>\n",
       "    <tr>\n",
       "      <th>1</th>\n",
       "      <td>Feb-10</td>\n",
       "      <td>-354534</td>\n",
       "    </tr>\n",
       "    <tr>\n",
       "      <th>2</th>\n",
       "      <td>Mar-10</td>\n",
       "      <td>276622</td>\n",
       "    </tr>\n",
       "    <tr>\n",
       "      <th>3</th>\n",
       "      <td>Apr-10</td>\n",
       "      <td>-728133</td>\n",
       "    </tr>\n",
       "    <tr>\n",
       "      <th>4</th>\n",
       "      <td>May-10</td>\n",
       "      <td>852993</td>\n",
       "    </tr>\n",
       "  </tbody>\n",
       "</table>\n",
       "</div>"
      ],
      "text/plain": [
       "     Date  Profit/Losses\n",
       "0  Jan-10        1088983\n",
       "1  Feb-10        -354534\n",
       "2  Mar-10         276622\n",
       "3  Apr-10        -728133\n",
       "4  May-10         852993"
      ]
     },
     "execution_count": 191,
     "metadata": {},
     "output_type": "execute_result"
    }
   ],
   "source": [
    "budgetDF.head()"
   ]
  },
  {
   "cell_type": "code",
   "execution_count": 192,
   "id": "215b2102-f799-402d-9930-63df42e28ce4",
   "metadata": {},
   "outputs": [],
   "source": [
    "#budgetDF.describe"
   ]
  },
  {
   "cell_type": "code",
   "execution_count": 193,
   "id": "3a2ca478",
   "metadata": {},
   "outputs": [],
   "source": [
    "import calendar"
   ]
  },
  {
   "cell_type": "code",
   "execution_count": 194,
   "id": "36e930ac",
   "metadata": {},
   "outputs": [],
   "source": [
    "from datetime import datetime "
   ]
  },
  {
   "cell_type": "code",
   "execution_count": 195,
   "id": "4021026c",
   "metadata": {},
   "outputs": [
    {
     "name": "stdout",
     "output_type": "stream",
     "text": [
      "86\n"
     ]
    }
   ],
   "source": [
    "TotalNumberofDATES = len(budgetDF[\"Date\"])\n",
    "print(TotalNumberofDATES)"
   ]
  },
  {
   "cell_type": "code",
   "execution_count": 196,
   "id": "cc55980c",
   "metadata": {},
   "outputs": [
    {
     "data": {
      "text/plain": [
       "0    Jan\n",
       "1    Feb\n",
       "2    Mar\n",
       "3    Apr\n",
       "4    May\n",
       "Name: Date, dtype: object"
      ]
     },
     "execution_count": 196,
     "metadata": {},
     "output_type": "execute_result"
    }
   ],
   "source": [
    "monthname = budgetDF[\"Date\"].str[:3] #instead of figuring out how to convert a string to a month recognized as a date, I treated it as a text string \n",
    "monthname.head() #test"
   ]
  },
  {
   "cell_type": "code",
   "execution_count": 197,
   "id": "440257b8",
   "metadata": {},
   "outputs": [
    {
     "data": {
      "text/html": [
       "<div>\n",
       "<style scoped>\n",
       "    .dataframe tbody tr th:only-of-type {\n",
       "        vertical-align: middle;\n",
       "    }\n",
       "\n",
       "    .dataframe tbody tr th {\n",
       "        vertical-align: top;\n",
       "    }\n",
       "\n",
       "    .dataframe thead th {\n",
       "        text-align: right;\n",
       "    }\n",
       "</style>\n",
       "<table border=\"1\" class=\"dataframe\">\n",
       "  <thead>\n",
       "    <tr style=\"text-align: right;\">\n",
       "      <th></th>\n",
       "      <th>Date</th>\n",
       "      <th>Profit/Losses</th>\n",
       "      <th>Month</th>\n",
       "    </tr>\n",
       "  </thead>\n",
       "  <tbody>\n",
       "    <tr>\n",
       "      <th>0</th>\n",
       "      <td>Jan-10</td>\n",
       "      <td>1088983</td>\n",
       "      <td>Jan</td>\n",
       "    </tr>\n",
       "    <tr>\n",
       "      <th>1</th>\n",
       "      <td>Feb-10</td>\n",
       "      <td>-354534</td>\n",
       "      <td>Feb</td>\n",
       "    </tr>\n",
       "    <tr>\n",
       "      <th>2</th>\n",
       "      <td>Mar-10</td>\n",
       "      <td>276622</td>\n",
       "      <td>Mar</td>\n",
       "    </tr>\n",
       "    <tr>\n",
       "      <th>3</th>\n",
       "      <td>Apr-10</td>\n",
       "      <td>-728133</td>\n",
       "      <td>Apr</td>\n",
       "    </tr>\n",
       "    <tr>\n",
       "      <th>4</th>\n",
       "      <td>May-10</td>\n",
       "      <td>852993</td>\n",
       "      <td>May</td>\n",
       "    </tr>\n",
       "  </tbody>\n",
       "</table>\n",
       "</div>"
      ],
      "text/plain": [
       "     Date  Profit/Losses Month\n",
       "0  Jan-10        1088983   Jan\n",
       "1  Feb-10        -354534   Feb\n",
       "2  Mar-10         276622   Mar\n",
       "3  Apr-10        -728133   Apr\n",
       "4  May-10         852993   May"
      ]
     },
     "execution_count": 197,
     "metadata": {},
     "output_type": "execute_result"
    }
   ],
   "source": [
    "budgetDF[\"Month\"] = monthname\n",
    "budgetDF.head()"
   ]
  },
  {
   "cell_type": "code",
   "execution_count": 198,
   "id": "48c38418",
   "metadata": {},
   "outputs": [
    {
     "data": {
      "text/plain": [
       "12"
      ]
     },
     "execution_count": 198,
     "metadata": {},
     "output_type": "execute_result"
    }
   ],
   "source": [
    "TotalNumberofMONTHS = len(budgetDF[\"Month\"].unique())\n",
    "TotalNumberofMONTHS"
   ]
  },
  {
   "cell_type": "code",
   "execution_count": 199,
   "id": "912e08ff",
   "metadata": {},
   "outputs": [
    {
     "name": "stdout",
     "output_type": "stream",
     "text": [
      "22564198\n"
     ]
    }
   ],
   "source": [
    "NetTotalofPL = sum(budgetDF[\"Profit/Losses\"])\n",
    "print(NetTotalofPL)"
   ]
  },
  {
   "cell_type": "code",
   "execution_count": 200,
   "id": "8070ebf9",
   "metadata": {},
   "outputs": [
    {
     "data": {
      "text/html": [
       "<div>\n",
       "<style scoped>\n",
       "    .dataframe tbody tr th:only-of-type {\n",
       "        vertical-align: middle;\n",
       "    }\n",
       "\n",
       "    .dataframe tbody tr th {\n",
       "        vertical-align: top;\n",
       "    }\n",
       "\n",
       "    .dataframe thead th {\n",
       "        text-align: right;\n",
       "    }\n",
       "</style>\n",
       "<table border=\"1\" class=\"dataframe\">\n",
       "  <thead>\n",
       "    <tr style=\"text-align: right;\">\n",
       "      <th></th>\n",
       "      <th>Date</th>\n",
       "      <th>Profit/Losses</th>\n",
       "    </tr>\n",
       "  </thead>\n",
       "  <tbody>\n",
       "    <tr>\n",
       "      <th>0</th>\n",
       "      <td>Mar-13</td>\n",
       "      <td>1141840</td>\n",
       "    </tr>\n",
       "  </tbody>\n",
       "</table>\n",
       "</div>"
      ],
      "text/plain": [
       "     Date  Profit/Losses\n",
       "0  Mar-13        1141840"
      ]
     },
     "execution_count": 200,
     "metadata": {},
     "output_type": "execute_result"
    }
   ],
   "source": [
    "GreatestProfitIncrease = budgetDF.sort_values(\"Profit/Losses\", ascending=False)\n",
    "GreatestProfitIncrease = GreatestProfitIncrease.reset_index(drop=True)\n",
    "GreatestProfitIncrease = GreatestProfitIncrease.iloc[:1, :2]\n",
    "GreatestProfitIncrease"
   ]
  },
  {
   "cell_type": "code",
   "execution_count": 201,
   "id": "bb01eebc",
   "metadata": {},
   "outputs": [
    {
     "data": {
      "text/plain": [
       "1141840"
      ]
     },
     "execution_count": 201,
     "metadata": {},
     "output_type": "execute_result"
    }
   ],
   "source": [
    "GreatestProfitIncrease = budgetDF.sort_values(\"Profit/Losses\", ascending=False)\n",
    "GreatestProfitIncrease = GreatestProfitIncrease.reset_index(drop=True)\n",
    "GreatestProfitIncrease = GreatestProfitIncrease[\"Profit/Losses\"].head(1)\n",
    "GreatestProfitIncrease = GreatestProfitIncrease.max()\n",
    "GreatestProfitIncrease"
   ]
  },
  {
   "cell_type": "code",
   "execution_count": 202,
   "id": "4eabb78d",
   "metadata": {},
   "outputs": [
    {
     "data": {
      "text/plain": [
       "-1194133"
      ]
     },
     "execution_count": 202,
     "metadata": {},
     "output_type": "execute_result"
    }
   ],
   "source": [
    "GreatestProfitDecrease = budgetDF.sort_values(\"Profit/Losses\", ascending=True)\n",
    "GreatestProfitDecrease = GreatestProfitDecrease.reset_index(drop=True)\n",
    "GreatestProfitDecrease = GreatestProfitDecrease[\"Profit/Losses\"].head(1)\n",
    "GreatestProfitDecrease = GreatestProfitDecrease.min()\n",
    "GreatestProfitDecrease"
   ]
  },
  {
   "cell_type": "code",
   "execution_count": 205,
   "id": "1ccfa6fb",
   "metadata": {},
   "outputs": [
    {
     "data": {
      "text/plain": [
       "0           NaN\n",
       "1    -1443517.0\n",
       "2      631156.0\n",
       "3    -1004755.0\n",
       "4     1581126.0\n",
       "        ...    \n",
       "81   -1627245.0\n",
       "82     616795.0\n",
       "83     628522.0\n",
       "84      90895.0\n",
       "85    -224669.0\n",
       "Name: Profit/Losses, Length: 86, dtype: float64"
      ]
     },
     "execution_count": 205,
     "metadata": {},
     "output_type": "execute_result"
    }
   ],
   "source": [
    "changecol = budgetDF[\"Profit/Losses\"].diff(periods=1)\n",
    "changecol"
   ]
  },
  {
   "cell_type": "code",
   "execution_count": 174,
   "id": "751c1531",
   "metadata": {},
   "outputs": [
    {
     "name": "stdout",
     "output_type": "stream",
     "text": [
      "Financial Analysis:\n",
      "---------------------------------------\n",
      "Total: 22564198\n",
      "Average Change: \n",
      "Greatest Increase in Profits: 1141840\n",
      "Greatest Decrease in Profits: -1194133\n",
      "---------------------------------------\n"
     ]
    }
   ],
   "source": [
    "print(f\"Financial Analysis:\\n---------------------------------------\\nTotal: {NetTotalofPL}\\nAverage Change: \\nGreatest Increase in Profits: {GreatestProfitIncrease}\\nGreatest Decrease in Profits: {GreatestProfitDecrease}\\n---------------------------------------\")"
   ]
  },
  {
   "cell_type": "code",
   "execution_count": 35,
   "id": "bfaf08c0",
   "metadata": {},
   "outputs": [],
   "source": [
    "Reportstring = f\"Financial Analysis:\\n---------------------------------------\\nTotal: {NetTotalofPL}\\nAverage Change: \\nGreateest Increase in Profits: {GreatestProfitIncrease})\\nGreatest Decrease in Profits: {GreatestProfitDecrease}\\n---------------------------------------\""
   ]
  },
  {
   "cell_type": "code",
   "execution_count": null,
   "id": "05e63d39",
   "metadata": {},
   "outputs": [],
   "source": [
    "with open('PyBankReport.txt', 'w', newline = '') as txtfile:\n",
    "    my_writer = txtfile.write(Reportstring)\n",
    "    #my_writer.writerow(Reportstring)"
   ]
  }
 ],
 "metadata": {
  "kernelspec": {
   "display_name": "Python 3 (ipykernel)",
   "language": "python",
   "name": "python3"
  },
  "language_info": {
   "codemirror_mode": {
    "name": "ipython",
    "version": 3
   },
   "file_extension": ".py",
   "mimetype": "text/x-python",
   "name": "python",
   "nbconvert_exporter": "python",
   "pygments_lexer": "ipython3",
   "version": "3.11.5"
  }
 },
 "nbformat": 4,
 "nbformat_minor": 5
}
